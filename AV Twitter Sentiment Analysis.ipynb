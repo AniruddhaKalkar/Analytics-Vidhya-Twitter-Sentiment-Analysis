{
 "cells": [
  {
   "cell_type": "code",
   "execution_count": 137,
   "metadata": {
    "collapsed": true
   },
   "outputs": [],
   "source": [
    "import numpy as np\n",
    "import pandas as pd\n",
    "from sklearn.feature_extraction.text import CountVectorizer,TfidfVectorizer\n",
    "%matplotlib inline\n",
    "import matplotlib.pyplot as plt\n",
    "import seaborn as sns\n",
    "from keras.preprocessing.text import Tokenizer\n",
    "import re"
   ]
  },
  {
   "cell_type": "code",
   "execution_count": 138,
   "metadata": {
    "collapsed": true
   },
   "outputs": [],
   "source": [
    "from keras.layers import Input, Dropout, Dense, BatchNormalization, Activation, concatenate, LSTM, Embedding, Flatten\n",
    "from keras.models import Model, Sequential\n",
    "from keras.callbacks import ModelCheckpoint, Callback, EarlyStopping#, TensorBoard\n",
    "from keras.utils import np_utils\n",
    "from keras.preprocessing.sequence import pad_sequences\n",
    "from keras.optimizers import Adam"
   ]
  },
  {
   "cell_type": "markdown",
   "metadata": {},
   "source": [
    "## Reading Files"
   ]
  },
  {
   "cell_type": "code",
   "execution_count": 139,
   "metadata": {
    "collapsed": true
   },
   "outputs": [],
   "source": [
    "train=pd.read_csv(\"train.csv\")\n",
    "test=pd.read_csv('test.csv')"
   ]
  },
  {
   "cell_type": "markdown",
   "metadata": {},
   "source": [
    "## Cleaning Data"
   ]
  },
  {
   "cell_type": "code",
   "execution_count": 140,
   "metadata": {
    "collapsed": true
   },
   "outputs": [],
   "source": [
    "stop_words=['about','above','after','again','a','b','c','d','e','f','g','h','i','j','k','l','m','n','o','p','q','r','s','t','u','v','w','x','y','z']\n",
    "def remove_punctuation(snt):\n",
    "    return re.sub(r'[\\W]',' ',snt.lower())\n",
    "\n",
    "def remove_stop_words(sent):\n",
    "    words = sent.split()\n",
    "    resultwords=[word.lower() for word in words if word.lower() not in stop_words]\n",
    "    return ' '.join(resultwords)"
   ]
  },
  {
   "cell_type": "code",
   "execution_count": 141,
   "metadata": {
    "collapsed": true
   },
   "outputs": [],
   "source": [
    "def clean_data():\n",
    "    train.tweet=train.tweet.apply(remove_punctuation)\n",
    "    test.tweet=test.tweet.apply(remove_punctuation)\n",
    "    train.tweet=train.tweet.apply(remove_stop_words)\n",
    "    test.tweet=test.tweet.apply(remove_stop_words)"
   ]
  },
  {
   "cell_type": "code",
   "execution_count": 142,
   "metadata": {
    "collapsed": true
   },
   "outputs": [],
   "source": [
    "clean_data()"
   ]
  },
  {
   "cell_type": "markdown",
   "metadata": {},
   "source": [
    "## Tokenizing Text"
   ]
  },
  {
   "cell_type": "code",
   "execution_count": 143,
   "metadata": {},
   "outputs": [
    {
     "name": "stdout",
     "output_type": "stream",
     "text": [
      "   Transforming text to seq...\n"
     ]
    }
   ],
   "source": [
    "text_data=np.hstack([train.tweet.str.lower(), \n",
    "                      test.tweet.str.lower()])\n",
    "tok=Tokenizer()\n",
    "tok.fit_on_texts(text_data)\n",
    "print(\"   Transforming text to seq...\")\n",
    "train[\"input\"] = tok.texts_to_sequences(train.tweet.str.lower())\n",
    "test[\"input\"] = tok.texts_to_sequences(test.tweet.str.lower())"
   ]
  },
  {
   "cell_type": "code",
   "execution_count": 144,
   "metadata": {},
   "outputs": [
    {
     "data": {
      "text/html": [
       "<div>\n",
       "<style>\n",
       "    .dataframe thead tr:only-child th {\n",
       "        text-align: right;\n",
       "    }\n",
       "\n",
       "    .dataframe thead th {\n",
       "        text-align: left;\n",
       "    }\n",
       "\n",
       "    .dataframe tbody tr th {\n",
       "        vertical-align: top;\n",
       "    }\n",
       "</style>\n",
       "<table border=\"1\" class=\"dataframe\">\n",
       "  <thead>\n",
       "    <tr style=\"text-align: right;\">\n",
       "      <th></th>\n",
       "      <th>id</th>\n",
       "      <th>label</th>\n",
       "      <th>tweet</th>\n",
       "      <th>input</th>\n",
       "    </tr>\n",
       "  </thead>\n",
       "  <tbody>\n",
       "    <tr>\n",
       "      <th>0</th>\n",
       "      <td>1</td>\n",
       "      <td>0</td>\n",
       "      <td>user when father is dysfunctional and is so se...</td>\n",
       "      <td>[1, 35, 74, 11, 16982, 6, 11, 22, 3162, 70, 97...</td>\n",
       "    </tr>\n",
       "    <tr>\n",
       "      <th>1</th>\n",
       "      <td>2</td>\n",
       "      <td>0</td>\n",
       "      <td>user user thanks for lyft credit can use cause...</td>\n",
       "      <td>[1, 1, 163, 8, 7007, 2371, 32, 448, 671, 60, 6...</td>\n",
       "    </tr>\n",
       "    <tr>\n",
       "      <th>2</th>\n",
       "      <td>3</td>\n",
       "      <td>0</td>\n",
       "      <td>bihday your majesty</td>\n",
       "      <td>[61, 26, 3078]</td>\n",
       "    </tr>\n",
       "    <tr>\n",
       "      <th>3</th>\n",
       "      <td>4</td>\n",
       "      <td>0</td>\n",
       "      <td>model love take with all the time in urð ð ð ð...</td>\n",
       "      <td>[135, 14, 77, 17, 21, 3, 39, 7, 161, 2, 2, 2, ...</td>\n",
       "    </tr>\n",
       "    <tr>\n",
       "      <th>4</th>\n",
       "      <td>5</td>\n",
       "      <td>0</td>\n",
       "      <td>factsguide society now motivation</td>\n",
       "      <td>[3605, 1555, 48, 302]</td>\n",
       "    </tr>\n",
       "  </tbody>\n",
       "</table>\n",
       "</div>"
      ],
      "text/plain": [
       "   id  label                                              tweet  \\\n",
       "0   1      0  user when father is dysfunctional and is so se...   \n",
       "1   2      0  user user thanks for lyft credit can use cause...   \n",
       "2   3      0                                bihday your majesty   \n",
       "3   4      0  model love take with all the time in urð ð ð ð...   \n",
       "4   5      0                  factsguide society now motivation   \n",
       "\n",
       "                                               input  \n",
       "0  [1, 35, 74, 11, 16982, 6, 11, 22, 3162, 70, 97...  \n",
       "1  [1, 1, 163, 8, 7007, 2371, 32, 448, 671, 60, 6...  \n",
       "2                                     [61, 26, 3078]  \n",
       "3  [135, 14, 77, 17, 21, 3, 39, 7, 161, 2, 2, 2, ...  \n",
       "4                              [3605, 1555, 48, 302]  "
      ]
     },
     "execution_count": 144,
     "metadata": {},
     "output_type": "execute_result"
    }
   ],
   "source": [
    "train.head()"
   ]
  },
  {
   "cell_type": "code",
   "execution_count": 145,
   "metadata": {},
   "outputs": [
    {
     "data": {
      "text/plain": [
       "<matplotlib.axes._subplots.AxesSubplot at 0x19c84f84080>"
      ]
     },
     "execution_count": 145,
     "metadata": {},
     "output_type": "execute_result"
    },
    {
     "data": {
      "image/png": "[encoded data removed]",
      "text/plain": [
       "<matplotlib.figure.Figure at 0x19c84f6e978>"
      ]
     },
     "metadata": {},
     "output_type": "display_data"
    }
   ],
   "source": [
    "train.input.apply(lambda x: len(x)).hist()"
   ]
  },
  {
   "cell_type": "code",
   "execution_count": 146,
   "metadata": {},
   "outputs": [
    {
     "data": {
      "text/plain": [
       "<matplotlib.axes._subplots.AxesSubplot at 0x19c84f6e2e8>"
      ]
     },
     "execution_count": 146,
     "metadata": {},
     "output_type": "execute_result"
    },
    {
     "data": {
      "image/png": "[encoded data removed]",
      "text/plain": [
       "<matplotlib.figure.Figure at 0x19c8cc5cc50>"
      ]
     },
     "metadata": {},
     "output_type": "display_data"
    }
   ],
   "source": [
    "test.input.apply(lambda x: len(x)).hist()"
   ]
  },
  {
   "cell_type": "code",
   "execution_count": 147,
   "metadata": {},
   "outputs": [
    {
     "name": "stdout",
     "output_type": "stream",
     "text": [
      "100 54065\n"
     ]
    }
   ],
   "source": [
    "MAX_LENGTH = 100\n",
    "MAX_TOKEN = np.max([np.max(train.input.max()),np.max(test.input.max())]) + 5\n",
    "print(MAX_LENGTH, MAX_TOKEN)"
   ]
  },
  {
   "cell_type": "markdown",
   "metadata": {},
   "source": [
    "## Seperating Training And Cross-Validation Sets And Encoding Labels"
   ]
  },
  {
   "cell_type": "code",
   "execution_count": 148,
   "metadata": {
    "collapsed": true
   },
   "outputs": [],
   "source": [
    "train.input.to_csv(\"train_data.csv\",index=False)\n",
    "test.input.to_csv(\"test_data.csv\",index=False)"
   ]
  },
  {
   "cell_type": "code",
   "execution_count": 149,
   "metadata": {
    "collapsed": true
   },
   "outputs": [],
   "source": [
    "train_data=train[:-1000]\n",
    "valid_data=train[-1000:]"
   ]
  },
  {
   "cell_type": "code",
   "execution_count": 150,
   "metadata": {
    "collapsed": true
   },
   "outputs": [],
   "source": [
    "train_x = pad_sequences(train_data.input, maxlen=MAX_LENGTH)\n",
    "valid_x = pad_sequences(valid_data.input, maxlen=MAX_LENGTH)\n",
    "train_y = np_utils.to_categorical(train_data.label.values, 2)\n",
    "valid_y = np_utils.to_categorical(valid_data.label.values, 2)"
   ]
  },
  {
   "cell_type": "markdown",
   "metadata": {},
   "source": [
    "## RNN-LSTM Model"
   ]
  },
  {
   "cell_type": "code",
   "execution_count": 167,
   "metadata": {
    "collapsed": true
   },
   "outputs": [],
   "source": [
    "A = Input(shape=[MAX_LENGTH], name=\"in\")\n",
    "B = Embedding(MAX_TOKEN, 256)(A)\n",
    "C = LSTM(300) (B)\n",
    "D = Dropout(0.6) (Dense(128, activation='relu') (C))\n",
    "E = Dropout(0.4) (Dense(32, activation='relu') (D))\n",
    "F = Dropout(0.4) (Dense(8, activation='relu') (E))\n",
    "output = Dense(2, activation=\"softmax\") (F)\n",
    "model = Model(A, output)"
   ]
  },
  {
   "cell_type": "code",
   "execution_count": null,
   "metadata": {},
   "outputs": [
    {
     "name": "stdout",
     "output_type": "stream",
     "text": [
      "_________________________________________________________________\n",
      "Layer (type)                 Output Shape              Param #   \n",
      "=================================================================\n",
      "in (InputLayer)              (None, 100)               0         \n",
      "_________________________________________________________________\n",
      "embedding_14 (Embedding)     (None, 100, 256)          13840640  \n",
      "_________________________________________________________________\n",
      "lstm_11 (LSTM)               (None, 300)               668400    \n",
      "_________________________________________________________________\n",
      "dense_26 (Dense)             (None, 128)               38528     \n",
      "_________________________________________________________________\n",
      "dropout_15 (Dropout)         (None, 128)               0         \n",
      "_________________________________________________________________\n",
      "dense_27 (Dense)             (None, 32)                4128      \n",
      "_________________________________________________________________\n",
      "dropout_16 (Dropout)         (None, 32)                0         \n",
      "_________________________________________________________________\n",
      "dense_28 (Dense)             (None, 8)                 264       \n",
      "_________________________________________________________________\n",
      "dropout_17 (Dropout)         (None, 8)                 0         \n",
      "_________________________________________________________________\n",
      "dense_29 (Dense)             (None, 2)                 18        \n",
      "=================================================================\n",
      "Total params: 14,551,978\n",
      "Trainable params: 14,551,978\n",
      "Non-trainable params: 0\n",
      "_________________________________________________________________\n",
      "None\n"
     ]
    }
   ],
   "source": [
    "print(model.summary())\n",
    "ad=Adam(0.001,decay=1e-6)\n",
    "model.compile(optimizer=ad,loss='categorical_crossentropy',metrics = ['accuracy'])"
   ]
  },
  {
   "cell_type": "markdown",
   "metadata": {},
   "source": [
    "## Training Data"
   ]
  },
  {
   "cell_type": "code",
   "execution_count": null,
   "metadata": {},
   "outputs": [
    {
     "name": "stdout",
     "output_type": "stream",
     "text": [
      "Train on 30962 samples, validate on 1000 samples\n",
      "Epoch 1/5\n",
      "30962/30962 [==============================] - 572s - loss: 0.2569 - acc: 0.9232 - val_loss: 0.1177 - val_acc: 0.9610\n",
      "Epoch 2/5\n",
      " 9856/30962 [========>.....................] - ETA: 402s - loss: 0.1087 - acc: 0.9655"
     ]
    }
   ],
   "source": [
    "model.fit(train_x, train_y, batch_size = 128, epochs = 5, \n",
    "                verbose = 1, validation_data = (valid_x, valid_y))"
   ]
  },
  {
   "cell_type": "markdown",
   "metadata": {},
   "source": [
    "## Saving Model And Submitting Predictions "
   ]
  },
  {
   "cell_type": "code",
   "execution_count": 165,
   "metadata": {
    "collapsed": true
   },
   "outputs": [],
   "source": [
    "test_x=pad_sequences(test.input, maxlen=MAX_LENGTH)\n",
    "preds=model.predict(test_x)"
   ]
  },
  {
   "cell_type": "code",
   "execution_count": 156,
   "metadata": {
    "collapsed": true
   },
   "outputs": [],
   "source": [
    " _model=model.to_json()\n",
    "with open(\"Model__softmax_3.json\",\"w\") as json_file:\n",
    "    json_file.write(_model)\n",
    "model.save_weights(\"weights_softmax_3.h5\")"
   ]
  },
  {
   "cell_type": "code",
   "execution_count": 157,
   "metadata": {
    "collapsed": true
   },
   "outputs": [],
   "source": [
    "with open(\"submission.csv\",'w') as f:\n",
    "    f.write('id,label\\n')\n",
    "    for i in range(len(test_x)):\n",
    "        f.write('{},{}\\n'.format(test.id[i],np.argmax(preds[i])))"
   ]
  },
  {
   "cell_type": "code",
   "execution_count": null,
   "metadata": {
    "collapsed": true
   },
   "outputs": [],
   "source": []
  }
 ],
 "metadata": {
  "kernelspec": {
   "display_name": "Python 3",
   "language": "python",
   "name": "python3"
  },
  "language_info": {
   "codemirror_mode": {
    "name": "ipython",
    "version": 3
   },
   "file_extension": ".py",
   "mimetype": "text/x-python",
   "name": "python",
   "nbconvert_exporter": "python",
   "pygments_lexer": "ipython3",
   "version": "3.5.2"
  }
 },
 "nbformat": 4,
 "nbformat_minor": 2
}
